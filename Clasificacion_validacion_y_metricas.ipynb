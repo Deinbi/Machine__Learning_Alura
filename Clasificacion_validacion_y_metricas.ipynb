{
  "nbformat": 4,
  "nbformat_minor": 0,
  "metadata": {
    "colab": {
      "provenance": [],
      "include_colab_link": true
    },
    "kernelspec": {
      "name": "python3",
      "display_name": "Python 3"
    },
    "language_info": {
      "name": "python"
    }
  },
  "cells": [
    {
      "cell_type": "markdown",
      "metadata": {
        "id": "view-in-github",
        "colab_type": "text"
      },
      "source": [
        "<a href=\"https://colab.research.google.com/github/Deinbi/Machine__Learning_Alura/blob/main/Clasificacion_validacion_y_metricas.ipynb\" target=\"_parent\"><img src=\"https://colab.research.google.com/assets/colab-badge.svg\" alt=\"Open In Colab\"/></a>"
      ]
    },
    {
      "cell_type": "markdown",
      "source": [
        "\n",
        "\n",
        "---\n",
        "\n",
        "En este curso, vamos a crear un proyecto de clasificación de clientes morosos en una empresa de financiamiento de automóviles. La Scikit-Learn será la principal biblioteca utilizada para realizar la validación y evaluación del rendimiento de los modelos de clasificación durante el curso. Explorar la documentación de esta biblioteca puede brindarte una excelente oportunidad para mejorar tus habilidades y adquirir mayor autonomía en la validación y en las métricas de modelos a lo largo del curso. Por lo tanto, a medida que avancemos, aprovecha este recurso adicional en tu aprendizaje.\n",
        "\n",
        "Datos del proyecto\n",
        "Para realizar la clasificación de los clientes, se utilizará una base de datos para alimentar nuestro proyecto. El uso de esta base es esencial, ya que, una vez descargada, proporciona la información necesaria para construir nuestros modelos de clasificación y te ofrece valiosa experiencia práctica en machine learning.\n",
        "\n",
        "Google Colaboratory\n",
        "Vamos a utilizar Google Colaboratory, que ya viene con las bibliotecas necesarias, incluida la Scikit-Learn en la versión 1.2.2, para construir el proyecto. Para que puedas usarlo, es necesario tener una cuenta de Gmail, ya que todo notebook se almacenará en Google Drive.\n",
        "\n",
        "Si deseas utilizar el notebook inicial del instructor para desarrollar el proyecto, puedes obtenerlo a través del Proyecto - validación y métricas.\n",
        "\n",
        "Al seguir este camino, tendrás un desarrollo eficaz, siendo capaz de adquirir habilidades valiosas en ciencia de datos mientras contribuyes a mejorar la toma de decisiones de la empresa de financiamiento de automóviles, todo de forma colaborativa y accesible.\n",
        "\n",
        "---\n",
        "\n"
      ],
      "metadata": {
        "id": "LKQiDTc7W9SS"
      }
    },
    {
      "cell_type": "markdown",
      "source": [
        "# <font color='dark'>**Clasificación: Validación de modelos y métricas de evaluación**</h1>"
      ],
      "metadata": {
        "id": "MCqTDybk4ShK"
      }
    },
    {
      "cell_type": "markdown",
      "source": [
        "### Proyecto\n",
        "\n",
        "Una empresa de financiamiento de automóviles está atravesando una situación complicada, con una alta demanda para una flota reducida de vehículos y un alto número de morosos, lo que está generando grandes pérdidas para la empresa.\n",
        "\n",
        "Nosotros fuimos contratados para buscar mejoras en la identificación de morosos. El análisis de los clientes actualmente se realiza de forma manual, cliente por cliente, lo que consume mucho tiempo y, aun así, la detección de morosos es muy imprecisa.\n",
        "\n",
        "Nuestra tarea es utilizar los datos proporcionados por la empresa para **clasificar** a los clientes en cumplidores y morosos."
      ],
      "metadata": {
        "id": "WscU3KG7a9No"
      }
    },
    {
      "cell_type": "markdown",
      "source": [
        "## <font color='dark'>Clasificando los datos</h1>"
      ],
      "metadata": {
        "id": "WgS8iF51Csrn"
      }
    },
    {
      "cell_type": "markdown",
      "source": [
        "### Creando un modelo inicial"
      ],
      "metadata": {
        "id": "6lExmBuKn-xe"
      }
    },
    {
      "cell_type": "code",
      "source": [
        "import pandas as pd"
      ],
      "metadata": {
        "id": "ANJDC3LqP43q"
      },
      "execution_count": 20,
      "outputs": []
    },
    {
      "cell_type": "code",
      "source": [
        "datos = pd.read_csv('/content/prestacar.csv')"
      ],
      "metadata": {
        "id": "UPddns6dP4kt"
      },
      "execution_count": 21,
      "outputs": []
    },
    {
      "cell_type": "code",
      "source": [
        "datos.head(1)"
      ],
      "metadata": {
        "id": "UVIX6QLpP4iC",
        "colab": {
          "base_uri": "https://localhost:8080/",
          "height": 101
        },
        "outputId": "ffdf1e5d-3914-4a99-a80c-75af2eb40ed1"
      },
      "execution_count": 22,
      "outputs": [
        {
          "output_type": "execute_result",
          "data": {
            "text/plain": [
              "   ingresos_cliente  anualidad_prestamo  años_casa_propia  telefono_trab  \\\n",
              "0           12600.0              3569.4         12.157324              1   \n",
              "\n",
              "   evaluacion_ciudad   score_1   score_2   score_3  score_social  \\\n",
              "0                2.0  0.057153  0.527227  0.513171      0.117428   \n",
              "\n",
              "   cambio_telefono  moroso  \n",
              "0           2545.0       0  "
            ],
            "text/html": [
              "\n",
              "  <div id=\"df-558c48de-58f0-448b-8c4b-28bf6cbf74ff\" class=\"colab-df-container\">\n",
              "    <div>\n",
              "<style scoped>\n",
              "    .dataframe tbody tr th:only-of-type {\n",
              "        vertical-align: middle;\n",
              "    }\n",
              "\n",
              "    .dataframe tbody tr th {\n",
              "        vertical-align: top;\n",
              "    }\n",
              "\n",
              "    .dataframe thead th {\n",
              "        text-align: right;\n",
              "    }\n",
              "</style>\n",
              "<table border=\"1\" class=\"dataframe\">\n",
              "  <thead>\n",
              "    <tr style=\"text-align: right;\">\n",
              "      <th></th>\n",
              "      <th>ingresos_cliente</th>\n",
              "      <th>anualidad_prestamo</th>\n",
              "      <th>años_casa_propia</th>\n",
              "      <th>telefono_trab</th>\n",
              "      <th>evaluacion_ciudad</th>\n",
              "      <th>score_1</th>\n",
              "      <th>score_2</th>\n",
              "      <th>score_3</th>\n",
              "      <th>score_social</th>\n",
              "      <th>cambio_telefono</th>\n",
              "      <th>moroso</th>\n",
              "    </tr>\n",
              "  </thead>\n",
              "  <tbody>\n",
              "    <tr>\n",
              "      <th>0</th>\n",
              "      <td>12600.0</td>\n",
              "      <td>3569.4</td>\n",
              "      <td>12.157324</td>\n",
              "      <td>1</td>\n",
              "      <td>2.0</td>\n",
              "      <td>0.057153</td>\n",
              "      <td>0.527227</td>\n",
              "      <td>0.513171</td>\n",
              "      <td>0.117428</td>\n",
              "      <td>2545.0</td>\n",
              "      <td>0</td>\n",
              "    </tr>\n",
              "  </tbody>\n",
              "</table>\n",
              "</div>\n",
              "    <div class=\"colab-df-buttons\">\n",
              "\n",
              "  <div class=\"colab-df-container\">\n",
              "    <button class=\"colab-df-convert\" onclick=\"convertToInteractive('df-558c48de-58f0-448b-8c4b-28bf6cbf74ff')\"\n",
              "            title=\"Convert this dataframe to an interactive table.\"\n",
              "            style=\"display:none;\">\n",
              "\n",
              "  <svg xmlns=\"http://www.w3.org/2000/svg\" height=\"24px\" viewBox=\"0 -960 960 960\">\n",
              "    <path d=\"M120-120v-720h720v720H120Zm60-500h600v-160H180v160Zm220 220h160v-160H400v160Zm0 220h160v-160H400v160ZM180-400h160v-160H180v160Zm440 0h160v-160H620v160ZM180-180h160v-160H180v160Zm440 0h160v-160H620v160Z\"/>\n",
              "  </svg>\n",
              "    </button>\n",
              "\n",
              "  <style>\n",
              "    .colab-df-container {\n",
              "      display:flex;\n",
              "      gap: 12px;\n",
              "    }\n",
              "\n",
              "    .colab-df-convert {\n",
              "      background-color: #E8F0FE;\n",
              "      border: none;\n",
              "      border-radius: 50%;\n",
              "      cursor: pointer;\n",
              "      display: none;\n",
              "      fill: #1967D2;\n",
              "      height: 32px;\n",
              "      padding: 0 0 0 0;\n",
              "      width: 32px;\n",
              "    }\n",
              "\n",
              "    .colab-df-convert:hover {\n",
              "      background-color: #E2EBFA;\n",
              "      box-shadow: 0px 1px 2px rgba(60, 64, 67, 0.3), 0px 1px 3px 1px rgba(60, 64, 67, 0.15);\n",
              "      fill: #174EA6;\n",
              "    }\n",
              "\n",
              "    .colab-df-buttons div {\n",
              "      margin-bottom: 4px;\n",
              "    }\n",
              "\n",
              "    [theme=dark] .colab-df-convert {\n",
              "      background-color: #3B4455;\n",
              "      fill: #D2E3FC;\n",
              "    }\n",
              "\n",
              "    [theme=dark] .colab-df-convert:hover {\n",
              "      background-color: #434B5C;\n",
              "      box-shadow: 0px 1px 3px 1px rgba(0, 0, 0, 0.15);\n",
              "      filter: drop-shadow(0px 1px 2px rgba(0, 0, 0, 0.3));\n",
              "      fill: #FFFFFF;\n",
              "    }\n",
              "  </style>\n",
              "\n",
              "    <script>\n",
              "      const buttonEl =\n",
              "        document.querySelector('#df-558c48de-58f0-448b-8c4b-28bf6cbf74ff button.colab-df-convert');\n",
              "      buttonEl.style.display =\n",
              "        google.colab.kernel.accessAllowed ? 'block' : 'none';\n",
              "\n",
              "      async function convertToInteractive(key) {\n",
              "        const element = document.querySelector('#df-558c48de-58f0-448b-8c4b-28bf6cbf74ff');\n",
              "        const dataTable =\n",
              "          await google.colab.kernel.invokeFunction('convertToInteractive',\n",
              "                                                    [key], {});\n",
              "        if (!dataTable) return;\n",
              "\n",
              "        const docLinkHtml = 'Like what you see? Visit the ' +\n",
              "          '<a target=\"_blank\" href=https://colab.research.google.com/notebooks/data_table.ipynb>data table notebook</a>'\n",
              "          + ' to learn more about interactive tables.';\n",
              "        element.innerHTML = '';\n",
              "        dataTable['output_type'] = 'display_data';\n",
              "        await google.colab.output.renderOutput(dataTable, element);\n",
              "        const docLink = document.createElement('div');\n",
              "        docLink.innerHTML = docLinkHtml;\n",
              "        element.appendChild(docLink);\n",
              "      }\n",
              "    </script>\n",
              "  </div>\n",
              "\n",
              "\n",
              "    </div>\n",
              "  </div>\n"
            ],
            "application/vnd.google.colaboratory.intrinsic+json": {
              "type": "dataframe",
              "variable_name": "datos",
              "summary": "{\n  \"name\": \"datos\",\n  \"rows\": 54025,\n  \"fields\": [\n    {\n      \"column\": \"ingresos_cliente\",\n      \"properties\": {\n        \"dtype\": \"number\",\n        \"std\": 9658.762569130264,\n        \"min\": 2700.0,\n        \"max\": 450000.0,\n        \"num_unique_values\": 663,\n        \"samples\": [\n          11018.7,\n          38520.0,\n          17796.6\n        ],\n        \"semantic_type\": \"\",\n        \"description\": \"\"\n      }\n    },\n    {\n      \"column\": \"anualidad_prestamo\",\n      \"properties\": {\n        \"dtype\": \"number\",\n        \"std\": 1305.3647344874787,\n        \"min\": 218.7,\n        \"max\": 22500.0,\n        \"num_unique_values\": 8004,\n        \"samples\": [\n          5339.7,\n          5067.0,\n          5757.3\n        ],\n        \"semantic_type\": \"\",\n        \"description\": \"\"\n      }\n    },\n    {\n      \"column\": \"a\\u00f1os_casa_propia\",\n      \"properties\": {\n        \"dtype\": \"number\",\n        \"std\": 7.452120104984191,\n        \"min\": 0.0,\n        \"max\": 69.0,\n        \"num_unique_values\": 53,\n        \"samples\": [\n          11.0,\n          31.0,\n          32.0\n        ],\n        \"semantic_type\": \"\",\n        \"description\": \"\"\n      }\n    },\n    {\n      \"column\": \"telefono_trab\",\n      \"properties\": {\n        \"dtype\": \"number\",\n        \"std\": 0,\n        \"min\": 0,\n        \"max\": 1,\n        \"num_unique_values\": 2,\n        \"samples\": [\n          0,\n          1\n        ],\n        \"semantic_type\": \"\",\n        \"description\": \"\"\n      }\n    },\n    {\n      \"column\": \"evaluacion_ciudad\",\n      \"properties\": {\n        \"dtype\": \"number\",\n        \"std\": 0.49880682251877845,\n        \"min\": 1.0,\n        \"max\": 3.0,\n        \"num_unique_values\": 4,\n        \"samples\": [\n          3.0,\n          2.030038427084816\n        ],\n        \"semantic_type\": \"\",\n        \"description\": \"\"\n      }\n    },\n    {\n      \"column\": \"score_1\",\n      \"properties\": {\n        \"dtype\": \"number\",\n        \"std\": 0.14238945649917853,\n        \"min\": 0.014568132,\n        \"max\": 0.942680454,\n        \"num_unique_values\": 23062,\n        \"samples\": [\n          0.475611877,\n          0.435226091\n        ],\n        \"semantic_type\": \"\",\n        \"description\": \"\"\n      }\n    },\n    {\n      \"column\": \"score_2\",\n      \"properties\": {\n        \"dtype\": \"number\",\n        \"std\": 0.8759454878096079,\n        \"min\": 5e-06,\n        \"max\": 100.0,\n        \"num_unique_values\": 38047,\n        \"samples\": [\n          0.416306086,\n          0.675062411\n        ],\n        \"semantic_type\": \"\",\n        \"description\": \"\"\n      }\n    },\n    {\n      \"column\": \"score_3\",\n      \"properties\": {\n        \"dtype\": \"number\",\n        \"std\": 0.06272486372343226,\n        \"min\": 0.000527265,\n        \"max\": 0.869210801,\n        \"num_unique_values\": 612,\n        \"samples\": [\n          0.420610964,\n          0.168416171\n        ],\n        \"semantic_type\": \"\",\n        \"description\": \"\"\n      }\n    },\n    {\n      \"column\": \"score_social\",\n      \"properties\": {\n        \"dtype\": \"number\",\n        \"std\": 0.0761796573204536,\n        \"min\": 0.0,\n        \"max\": 1.0,\n        \"num_unique_values\": 1459,\n        \"samples\": [\n          0.1674,\n          0.6381\n        ],\n        \"semantic_type\": \"\",\n        \"description\": \"\"\n      }\n    },\n    {\n      \"column\": \"cambio_telefono\",\n      \"properties\": {\n        \"dtype\": \"number\",\n        \"std\": 818.1417090553241,\n        \"min\": 0.0,\n        \"max\": 4185.0,\n        \"num_unique_values\": 3408,\n        \"samples\": [\n          966.0,\n          3099.0\n        ],\n        \"semantic_type\": \"\",\n        \"description\": \"\"\n      }\n    },\n    {\n      \"column\": \"moroso\",\n      \"properties\": {\n        \"dtype\": \"number\",\n        \"std\": 0,\n        \"min\": 0,\n        \"max\": 1,\n        \"num_unique_values\": 2,\n        \"samples\": [\n          1,\n          0\n        ],\n        \"semantic_type\": \"\",\n        \"description\": \"\"\n      }\n    }\n  ]\n}"
            }
          },
          "metadata": {},
          "execution_count": 22
        }
      ]
    },
    {
      "cell_type": "code",
      "source": [
        "X = datos.drop(columns='moroso',axis=1)"
      ],
      "metadata": {
        "id": "MikoMXI7P4dG"
      },
      "execution_count": 23,
      "outputs": []
    },
    {
      "cell_type": "code",
      "source": [
        "X.head(1)"
      ],
      "metadata": {
        "colab": {
          "base_uri": "https://localhost:8080/",
          "height": 101
        },
        "id": "td-yFSUSWSJe",
        "outputId": "af356b33-ae8b-4ac7-adc2-818902acf41c"
      },
      "execution_count": 24,
      "outputs": [
        {
          "output_type": "execute_result",
          "data": {
            "text/plain": [
              "   ingresos_cliente  anualidad_prestamo  años_casa_propia  telefono_trab  \\\n",
              "0           12600.0              3569.4         12.157324              1   \n",
              "\n",
              "   evaluacion_ciudad   score_1   score_2   score_3  score_social  \\\n",
              "0                2.0  0.057153  0.527227  0.513171      0.117428   \n",
              "\n",
              "   cambio_telefono  \n",
              "0           2545.0  "
            ],
            "text/html": [
              "\n",
              "  <div id=\"df-85105be1-8c26-461e-9bb6-f32750aee0f6\" class=\"colab-df-container\">\n",
              "    <div>\n",
              "<style scoped>\n",
              "    .dataframe tbody tr th:only-of-type {\n",
              "        vertical-align: middle;\n",
              "    }\n",
              "\n",
              "    .dataframe tbody tr th {\n",
              "        vertical-align: top;\n",
              "    }\n",
              "\n",
              "    .dataframe thead th {\n",
              "        text-align: right;\n",
              "    }\n",
              "</style>\n",
              "<table border=\"1\" class=\"dataframe\">\n",
              "  <thead>\n",
              "    <tr style=\"text-align: right;\">\n",
              "      <th></th>\n",
              "      <th>ingresos_cliente</th>\n",
              "      <th>anualidad_prestamo</th>\n",
              "      <th>años_casa_propia</th>\n",
              "      <th>telefono_trab</th>\n",
              "      <th>evaluacion_ciudad</th>\n",
              "      <th>score_1</th>\n",
              "      <th>score_2</th>\n",
              "      <th>score_3</th>\n",
              "      <th>score_social</th>\n",
              "      <th>cambio_telefono</th>\n",
              "    </tr>\n",
              "  </thead>\n",
              "  <tbody>\n",
              "    <tr>\n",
              "      <th>0</th>\n",
              "      <td>12600.0</td>\n",
              "      <td>3569.4</td>\n",
              "      <td>12.157324</td>\n",
              "      <td>1</td>\n",
              "      <td>2.0</td>\n",
              "      <td>0.057153</td>\n",
              "      <td>0.527227</td>\n",
              "      <td>0.513171</td>\n",
              "      <td>0.117428</td>\n",
              "      <td>2545.0</td>\n",
              "    </tr>\n",
              "  </tbody>\n",
              "</table>\n",
              "</div>\n",
              "    <div class=\"colab-df-buttons\">\n",
              "\n",
              "  <div class=\"colab-df-container\">\n",
              "    <button class=\"colab-df-convert\" onclick=\"convertToInteractive('df-85105be1-8c26-461e-9bb6-f32750aee0f6')\"\n",
              "            title=\"Convert this dataframe to an interactive table.\"\n",
              "            style=\"display:none;\">\n",
              "\n",
              "  <svg xmlns=\"http://www.w3.org/2000/svg\" height=\"24px\" viewBox=\"0 -960 960 960\">\n",
              "    <path d=\"M120-120v-720h720v720H120Zm60-500h600v-160H180v160Zm220 220h160v-160H400v160Zm0 220h160v-160H400v160ZM180-400h160v-160H180v160Zm440 0h160v-160H620v160ZM180-180h160v-160H180v160Zm440 0h160v-160H620v160Z\"/>\n",
              "  </svg>\n",
              "    </button>\n",
              "\n",
              "  <style>\n",
              "    .colab-df-container {\n",
              "      display:flex;\n",
              "      gap: 12px;\n",
              "    }\n",
              "\n",
              "    .colab-df-convert {\n",
              "      background-color: #E8F0FE;\n",
              "      border: none;\n",
              "      border-radius: 50%;\n",
              "      cursor: pointer;\n",
              "      display: none;\n",
              "      fill: #1967D2;\n",
              "      height: 32px;\n",
              "      padding: 0 0 0 0;\n",
              "      width: 32px;\n",
              "    }\n",
              "\n",
              "    .colab-df-convert:hover {\n",
              "      background-color: #E2EBFA;\n",
              "      box-shadow: 0px 1px 2px rgba(60, 64, 67, 0.3), 0px 1px 3px 1px rgba(60, 64, 67, 0.15);\n",
              "      fill: #174EA6;\n",
              "    }\n",
              "\n",
              "    .colab-df-buttons div {\n",
              "      margin-bottom: 4px;\n",
              "    }\n",
              "\n",
              "    [theme=dark] .colab-df-convert {\n",
              "      background-color: #3B4455;\n",
              "      fill: #D2E3FC;\n",
              "    }\n",
              "\n",
              "    [theme=dark] .colab-df-convert:hover {\n",
              "      background-color: #434B5C;\n",
              "      box-shadow: 0px 1px 3px 1px rgba(0, 0, 0, 0.15);\n",
              "      filter: drop-shadow(0px 1px 2px rgba(0, 0, 0, 0.3));\n",
              "      fill: #FFFFFF;\n",
              "    }\n",
              "  </style>\n",
              "\n",
              "    <script>\n",
              "      const buttonEl =\n",
              "        document.querySelector('#df-85105be1-8c26-461e-9bb6-f32750aee0f6 button.colab-df-convert');\n",
              "      buttonEl.style.display =\n",
              "        google.colab.kernel.accessAllowed ? 'block' : 'none';\n",
              "\n",
              "      async function convertToInteractive(key) {\n",
              "        const element = document.querySelector('#df-85105be1-8c26-461e-9bb6-f32750aee0f6');\n",
              "        const dataTable =\n",
              "          await google.colab.kernel.invokeFunction('convertToInteractive',\n",
              "                                                    [key], {});\n",
              "        if (!dataTable) return;\n",
              "\n",
              "        const docLinkHtml = 'Like what you see? Visit the ' +\n",
              "          '<a target=\"_blank\" href=https://colab.research.google.com/notebooks/data_table.ipynb>data table notebook</a>'\n",
              "          + ' to learn more about interactive tables.';\n",
              "        element.innerHTML = '';\n",
              "        dataTable['output_type'] = 'display_data';\n",
              "        await google.colab.output.renderOutput(dataTable, element);\n",
              "        const docLink = document.createElement('div');\n",
              "        docLink.innerHTML = docLinkHtml;\n",
              "        element.appendChild(docLink);\n",
              "      }\n",
              "    </script>\n",
              "  </div>\n",
              "\n",
              "\n",
              "    </div>\n",
              "  </div>\n"
            ],
            "application/vnd.google.colaboratory.intrinsic+json": {
              "type": "dataframe",
              "variable_name": "X",
              "summary": "{\n  \"name\": \"X\",\n  \"rows\": 54025,\n  \"fields\": [\n    {\n      \"column\": \"ingresos_cliente\",\n      \"properties\": {\n        \"dtype\": \"number\",\n        \"std\": 9658.762569130264,\n        \"min\": 2700.0,\n        \"max\": 450000.0,\n        \"num_unique_values\": 663,\n        \"samples\": [\n          11018.7,\n          38520.0,\n          17796.6\n        ],\n        \"semantic_type\": \"\",\n        \"description\": \"\"\n      }\n    },\n    {\n      \"column\": \"anualidad_prestamo\",\n      \"properties\": {\n        \"dtype\": \"number\",\n        \"std\": 1305.3647344874787,\n        \"min\": 218.7,\n        \"max\": 22500.0,\n        \"num_unique_values\": 8004,\n        \"samples\": [\n          5339.7,\n          5067.0,\n          5757.3\n        ],\n        \"semantic_type\": \"\",\n        \"description\": \"\"\n      }\n    },\n    {\n      \"column\": \"a\\u00f1os_casa_propia\",\n      \"properties\": {\n        \"dtype\": \"number\",\n        \"std\": 7.452120104984191,\n        \"min\": 0.0,\n        \"max\": 69.0,\n        \"num_unique_values\": 53,\n        \"samples\": [\n          11.0,\n          31.0,\n          32.0\n        ],\n        \"semantic_type\": \"\",\n        \"description\": \"\"\n      }\n    },\n    {\n      \"column\": \"telefono_trab\",\n      \"properties\": {\n        \"dtype\": \"number\",\n        \"std\": 0,\n        \"min\": 0,\n        \"max\": 1,\n        \"num_unique_values\": 2,\n        \"samples\": [\n          0,\n          1\n        ],\n        \"semantic_type\": \"\",\n        \"description\": \"\"\n      }\n    },\n    {\n      \"column\": \"evaluacion_ciudad\",\n      \"properties\": {\n        \"dtype\": \"number\",\n        \"std\": 0.49880682251877845,\n        \"min\": 1.0,\n        \"max\": 3.0,\n        \"num_unique_values\": 4,\n        \"samples\": [\n          3.0,\n          2.030038427084816\n        ],\n        \"semantic_type\": \"\",\n        \"description\": \"\"\n      }\n    },\n    {\n      \"column\": \"score_1\",\n      \"properties\": {\n        \"dtype\": \"number\",\n        \"std\": 0.14238945649917853,\n        \"min\": 0.014568132,\n        \"max\": 0.942680454,\n        \"num_unique_values\": 23062,\n        \"samples\": [\n          0.475611877,\n          0.435226091\n        ],\n        \"semantic_type\": \"\",\n        \"description\": \"\"\n      }\n    },\n    {\n      \"column\": \"score_2\",\n      \"properties\": {\n        \"dtype\": \"number\",\n        \"std\": 0.8759454878096079,\n        \"min\": 5e-06,\n        \"max\": 100.0,\n        \"num_unique_values\": 38047,\n        \"samples\": [\n          0.416306086,\n          0.675062411\n        ],\n        \"semantic_type\": \"\",\n        \"description\": \"\"\n      }\n    },\n    {\n      \"column\": \"score_3\",\n      \"properties\": {\n        \"dtype\": \"number\",\n        \"std\": 0.06272486372343226,\n        \"min\": 0.000527265,\n        \"max\": 0.869210801,\n        \"num_unique_values\": 612,\n        \"samples\": [\n          0.420610964,\n          0.168416171\n        ],\n        \"semantic_type\": \"\",\n        \"description\": \"\"\n      }\n    },\n    {\n      \"column\": \"score_social\",\n      \"properties\": {\n        \"dtype\": \"number\",\n        \"std\": 0.0761796573204536,\n        \"min\": 0.0,\n        \"max\": 1.0,\n        \"num_unique_values\": 1459,\n        \"samples\": [\n          0.1674,\n          0.6381\n        ],\n        \"semantic_type\": \"\",\n        \"description\": \"\"\n      }\n    },\n    {\n      \"column\": \"cambio_telefono\",\n      \"properties\": {\n        \"dtype\": \"number\",\n        \"std\": 818.1417090553241,\n        \"min\": 0.0,\n        \"max\": 4185.0,\n        \"num_unique_values\": 3408,\n        \"samples\": [\n          966.0,\n          3099.0\n        ],\n        \"semantic_type\": \"\",\n        \"description\": \"\"\n      }\n    }\n  ]\n}"
            }
          },
          "metadata": {},
          "execution_count": 24
        }
      ]
    },
    {
      "cell_type": "code",
      "source": [
        "y = datos.moroso"
      ],
      "metadata": {
        "id": "ugsevfwCWSGf"
      },
      "execution_count": 25,
      "outputs": []
    },
    {
      "cell_type": "code",
      "source": [
        "y"
      ],
      "metadata": {
        "colab": {
          "base_uri": "https://localhost:8080/",
          "height": 458
        },
        "id": "bAkJhbp7WYsC",
        "outputId": "2a1fedca-e489-4204-b919-8cc616ac4661"
      },
      "execution_count": 26,
      "outputs": [
        {
          "output_type": "execute_result",
          "data": {
            "text/plain": [
              "0        0\n",
              "1        0\n",
              "2        0\n",
              "3        0\n",
              "4        0\n",
              "        ..\n",
              "54020    1\n",
              "54021    1\n",
              "54022    1\n",
              "54023    1\n",
              "54024    1\n",
              "Name: moroso, Length: 54025, dtype: int64"
            ],
            "text/html": [
              "<div>\n",
              "<style scoped>\n",
              "    .dataframe tbody tr th:only-of-type {\n",
              "        vertical-align: middle;\n",
              "    }\n",
              "\n",
              "    .dataframe tbody tr th {\n",
              "        vertical-align: top;\n",
              "    }\n",
              "\n",
              "    .dataframe thead th {\n",
              "        text-align: right;\n",
              "    }\n",
              "</style>\n",
              "<table border=\"1\" class=\"dataframe\">\n",
              "  <thead>\n",
              "    <tr style=\"text-align: right;\">\n",
              "      <th></th>\n",
              "      <th>moroso</th>\n",
              "    </tr>\n",
              "  </thead>\n",
              "  <tbody>\n",
              "    <tr>\n",
              "      <th>0</th>\n",
              "      <td>0</td>\n",
              "    </tr>\n",
              "    <tr>\n",
              "      <th>1</th>\n",
              "      <td>0</td>\n",
              "    </tr>\n",
              "    <tr>\n",
              "      <th>2</th>\n",
              "      <td>0</td>\n",
              "    </tr>\n",
              "    <tr>\n",
              "      <th>3</th>\n",
              "      <td>0</td>\n",
              "    </tr>\n",
              "    <tr>\n",
              "      <th>4</th>\n",
              "      <td>0</td>\n",
              "    </tr>\n",
              "    <tr>\n",
              "      <th>...</th>\n",
              "      <td>...</td>\n",
              "    </tr>\n",
              "    <tr>\n",
              "      <th>54020</th>\n",
              "      <td>1</td>\n",
              "    </tr>\n",
              "    <tr>\n",
              "      <th>54021</th>\n",
              "      <td>1</td>\n",
              "    </tr>\n",
              "    <tr>\n",
              "      <th>54022</th>\n",
              "      <td>1</td>\n",
              "    </tr>\n",
              "    <tr>\n",
              "      <th>54023</th>\n",
              "      <td>1</td>\n",
              "    </tr>\n",
              "    <tr>\n",
              "      <th>54024</th>\n",
              "      <td>1</td>\n",
              "    </tr>\n",
              "  </tbody>\n",
              "</table>\n",
              "<p>54025 rows × 1 columns</p>\n",
              "</div><br><label><b>dtype:</b> int64</label>"
            ]
          },
          "metadata": {},
          "execution_count": 26
        }
      ]
    },
    {
      "cell_type": "code",
      "source": [
        "from sklearn.tree import DecisionTreeClassifier\n",
        "modelo = DecisionTreeClassifier()\n",
        "modelo.fit(X,y)\n",
        "modelo.score(X,y)"
      ],
      "metadata": {
        "colab": {
          "base_uri": "https://localhost:8080/"
        },
        "id": "szjV7A_2Wi_l",
        "outputId": "9d8283e8-931e-439d-929e-fda0a1d0e2fd"
      },
      "execution_count": 27,
      "outputs": [
        {
          "output_type": "execute_result",
          "data": {
            "text/plain": [
              "1.0"
            ]
          },
          "metadata": {},
          "execution_count": 27
        }
      ]
    },
    {
      "cell_type": "code",
      "source": [
        "print(f'La exactitud del modelo es: {modelo.score(X,y)}')"
      ],
      "metadata": {
        "colab": {
          "base_uri": "https://localhost:8080/"
        },
        "id": "K12wLh_SWk9Z",
        "outputId": "268c8ede-1ab7-4af2-d63b-b3ba89e6c09a"
      },
      "execution_count": 28,
      "outputs": [
        {
          "output_type": "stream",
          "name": "stdout",
          "text": [
            "La exactitud del modelo es: 1.0\n"
          ]
        }
      ]
    },
    {
      "cell_type": "markdown",
      "source": [
        "Generamos un modelo inicial de árbol de decisión para determinar si un cliente era moroso o no, y nuestro modelo nos dio una exactitud del 100%. Pero, ¿lo hicimos de la forma correcta?\n",
        "\n",
        "La manera en que ejecutamos ese primer modelo es similar a darle a una persona un examen con las respuestas y, después de que esa persona tenga acceso a ese examen con todas las respuestas, presentarle exactamente el mismo examen con las mismas respuestas. Si la persona memoriza ese examen con las mismas palabras y respuestas, entonces el día de mañana que le quieras preguntar algo similar con otras palabras, tal vez la persona no tenga la capacidad de generalizar bien el concepto porque se dedicó a memorizar.\n",
        "\n",
        "Lo mismo sucede con los modelos de Machine Learning (Aprendizaje Automático). Si entreno y pruebo mi modelo con el mismo conjunto de datos, eso es igual a que el modelo memorice completamente todas las salidas. Por eso, en el caso específico del árbol de decisión, mi modelo siempre va a llegar a un 100% de exactitud."
      ],
      "metadata": {
        "id": "ecxW7nmgXjA0"
      }
    },
    {
      "cell_type": "markdown",
      "source": [
        "\n",
        "\n",
        "---\n",
        "Durante la construcción de un modelo para clasificar transacciones bancarias como legítimas o fraudulentas, una persona científica de datos utilizó la biblioteca Scikit-Learn, que ofrece diversos algoritmos de machine learning que pueden ser utilizados para la clasificación de datos. En cada uno de estos algoritmos, el método fit() se utiliza para entrenar un modelo a partir de las variables explicativas y la variable respuesta.\n",
        "\n",
        "Sin embargo, después del entrenamiento del modelo, se realiza un paso más mediante el uso del método score(). Seleccione la alternativa que describe de manera adecuada la finalidad de usar el score() en este contexto:\n",
        "\n",
        "![image.png](data:image/png;base64,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)\n",
        "\n",
        "\n",
        "---\n",
        "\n"
      ],
      "metadata": {
        "id": "zjZrbnNqXNTR"
      }
    },
    {
      "cell_type": "markdown",
      "source": [
        "### Validando el modelo"
      ],
      "metadata": {
        "id": "EPrFcm39oAof"
      }
    },
    {
      "cell_type": "markdown",
      "source": [
        "Evaluar el modelo con los mismos datos utilizados en el entrenamiento no es recomendable. Es necesario que la evaluación se realice con datos independientes.  \n",
        "\n",
        "Evaluar el modelo con los propios datos de entrenamiento sería equivalente a entregar un examen con las preguntas y las respuestas a una persona y, al momento de evaluarla nuevamente, entregarle un examen con las mismas preguntas y opciones. Se espera que esa persona obtenga un buen resultado, ya que ya ha visto las respuestas y ha memorizado el resultado. Esto es diferente de haber aprendido la materia a partir de ese examen y luego presentar una prueba con contenido similar y obtener un resultado positivo.  \n",
        "\n",
        "Con el objetivo de verificar la capacidad de generalización de un modelo, debemos dividir el conjunto de datos en tres partes: datos de entrenamiento, validación y prueba.  \n",
        "\n",
        "- El **conjunto de entrenamiento** se utiliza para entrenar los modelos. A partir de este conjunto, los modelos identifican patrones en los datos.  \n",
        "\n",
        "- El **conjunto de validación** se emplea para evaluar el desempeño de diferentes modelos con datos nuevos que no fueron utilizados en el entrenamiento.  \n",
        "\n",
        "- El **conjunto de prueba** se mantiene separado desde el inicio para simular datos del mundo real. No se utiliza en ninguna etapa del entrenamiento ni de la validación, sirviendo como una estimación de la capacidad del modelo elegido para generalizar y predecir nuevos datos."
      ],
      "metadata": {
        "id": "v0u-uij9eNcD"
      }
    },
    {
      "cell_type": "markdown",
      "source": [
        "<a href=\"https://ibb.co/9H2Z1HZ5\"><img src=\"https://i.ibb.co/0yZs6ysb/datos-train-test.png\" alt=\"datos-train-test\" border=\"0\"></a>"
      ],
      "metadata": {
        "id": "TCIN5oOJFk_W"
      }
    },
    {
      "cell_type": "markdown",
      "source": [
        "Entonces, la buena práctica cuando trabajamos con Machine Learning es tener tres conjuntos de datos. Podríamos hablar de dos conjuntos: uno compuesto por un conjunto de prueba y el otro conjunto compuesto por el conjunto de entrenamiento y el conjunto de validación.\n",
        "\n",
        "¿Cuál es el objetivo? Que desde el principio, aísle un grupo de mis datos para probarlo sólo al final, que nunca vea los datos que voy a dejar en el grupo de prueba para poder ver que efectivamente mi modelo está generalizando bien con datos que nunca vio, es decir, simulando un ambiente de producción de un modelo de Machine Learning.\n",
        "\n",
        "Entonces, tenemos una parte de prueba y en el otro conjunto tenemos la parte dedicada a entrenamiento y validación. Entonces, tengo lógicamente un segmento para entrenar mi modelo y un segmento para validarlo. ¿Entonces cuál es la idea? Que este de validación no lo vea durante entrenamiento y únicamente lo use a la hora de validar si el entrenamiento está generalizando bien o no."
      ],
      "metadata": {
        "id": "EkLQw-9-XsCG"
      }
    },
    {
      "cell_type": "code",
      "source": [
        "from sklearn.model_selection import train_test_split"
      ],
      "metadata": {
        "id": "OICJjv9HP1QZ"
      },
      "execution_count": 29,
      "outputs": []
    },
    {
      "cell_type": "code",
      "source": [
        "X,X_test,y,y_test = train_test_split(X,y,test_size=0.15,stratify=y,random_state=5)\n",
        "X_train,X_val,y_train,y_val = train_test_split(X,y,stratify=y,random_state=5)"
      ],
      "metadata": {
        "id": "mvDcVFFDP1sB"
      },
      "execution_count": 30,
      "outputs": []
    },
    {
      "cell_type": "markdown",
      "source": [
        "En nuestro caso, vamos a hacer primero la separación para el entrenamiento y validación y para prueba, y después vamos a hacer la separación de entrenamiento y validación efectivamente. ¿Cómo lo hacemos? Vamos a tomar nuestra X, nuestra X, Test, vamos a tomar nuestra Y y nuestra Y, Test que van a ser los de prueba y vamos a hacer lo siguiente Train, Test, Split. Vamos a introducirle nuestra X, nuestra Y, vamos a tomar una base de prueba Test, Size del 15%, 0.15 y vamos a utilizar el método Stratify.\n",
        "\n",
        "¿Cuál es el objetivo de hacer este Stratify? Que deje la misma cantidad de observaciones para morosos en los dos conjuntos de datos que estoy separando. ¿Qué quiere decir ello? Que si en mi conjunto de prueba tengo un 10% de morosos, también quiero que en mi conjunto de entrenamiento y validación exista un 10% de morosos. Entonces, esa es la idea y vamos a hacer este Stratify utilizando nuestra Y.\n",
        "\n",
        "Por último, vamos a establecer un estado de aleatoriedad RandomState y vamos a darle el número 5. El estado de aleatoriedad básicamente nos permite replicar esta misma división en cualquier momento, es decir, la forma en que voy a dividir mis muestras en este ejercicio podrá replicarse en cualquier máquina, porque siempre que utilice el RandomState 5 él va a dividir de la misma manera, por eso se llama un estado de pseudo aleatoriedad.\n",
        "\n",
        "Ahora vamos a hacer lo mismo pero para la validación. Entonces, vuelvo y tomo mi nueva X y mi nueva Y, ¿verdad? Y en vez de XTEST aquí voy a llamar XVAL y YVAL, ¿ok?\n",
        "\n",
        "Y aquí, en lugar de dejarlo como X, lo voy a cambiar a XTRAIN y en lugar de dejar Y así, lo voy a cambiar a YTRAIN. De esta manera, ya segmento mis datos para entrenamiento y para prueba. No voy a especificar el tamaño de la prueba porque por defecto es el 25%. Si observas aquí, indica que cuando no se aplica un tamaño de prueba, se configura al 25%, así que lo dejaré así, ¿de acuerdo? Y el resto permanece igual. Entonces, ejecutamos nuestra celda."
      ],
      "metadata": {
        "id": "G1TIThAlX9mw"
      }
    },
    {
      "cell_type": "code",
      "source": [
        "modelo = DecisionTreeClassifier()\n",
        "modelo.fit(X_train,y_train)\n",
        "print(f'La exactitud del modelo con el conjunto de entrenamiento es de: {modelo.score(X_train,y_train)}')\n",
        "print(f'La exactitud del modelo con el conjunto de validación es de: {modelo.score(X_val,y_val)}')"
      ],
      "metadata": {
        "id": "sEJPwwG_P1Md",
        "colab": {
          "base_uri": "https://localhost:8080/"
        },
        "outputId": "a6b70c9d-3ac3-4686-972e-142a0e0b6eb9"
      },
      "execution_count": 31,
      "outputs": [
        {
          "output_type": "stream",
          "name": "stdout",
          "text": [
            "La exactitud del modelo con el conjunto de entrenamiento es de: 1.0\n",
            "La exactitud del modelo con el conjunto de validación es de: 0.8490549603693058\n"
          ]
        }
      ]
    },
    {
      "cell_type": "markdown",
      "source": [
        "En nuestro caso, vamos a hacer primero la separación para el entrenamiento y validación y para prueba, y después vamos a hacer la separación de entrenamiento y validación efectivamente. ¿Cómo lo hacemos? Vamos a tomar nuestra X, nuestra X, Test, vamos a tomar nuestra Y y nuestra Y, Test que van a ser los de prueba y vamos a hacer lo siguiente Train, Test, Split. Vamos a introducirle nuestra X, nuestra Y, vamos a tomar una base de prueba Test, Size del 15%, 0.15 y vamos a utilizar el método Stratify.\n",
        "\n",
        "¿Cuál es el objetivo de hacer este Stratify? Que deje la misma cantidad de observaciones para morosos en los dos conjuntos de datos que estoy separando. ¿Qué quiere decir ello? Que si en mi conjunto de prueba tengo un 10% de morosos, también quiero que en mi conjunto de entrenamiento y validación exista un 10% de morosos. Entonces, esa es la idea y vamos a hacer este Stratify utilizando nuestra Y.\n",
        "\n",
        "Por último, vamos a establecer un estado de aleatoriedad RandomState y vamos a darle el número 5. El estado de aleatoriedad básicamente nos permite replicar esta misma división en cualquier momento, es decir, la forma en que voy a dividir mis muestras en este ejercicio podrá replicarse en cualquier máquina, porque siempre que utilice el RandomState 5 él va a dividir de la misma manera, por eso se llama un estado de pseudo aleatoriedad.\n",
        "\n",
        "Ahora vamos a hacer lo mismo pero para la validación. Entonces, vuelvo y tomo mi nueva X y mi nueva Y, ¿verdad? Y en vez de XTEST aquí voy a llamar XVAL y YVAL, ¿ok?\n",
        "\n",
        "Y aquí, en lugar de dejarlo como X, lo voy a cambiar a XTRAIN y en lugar de dejar Y así, lo voy a cambiar a YTRAIN. De esta manera, ya segmento mis datos para entrenamiento y para prueba. No voy a especificar el tamaño de la prueba porque por defecto es el 25%. Si observas aquí, indica que cuando no se aplica un tamaño de prueba, se configura al 25%, así que lo dejaré así, ¿de acuerdo? Y el resto permanece igual. Entonces, ejecutamos nuestra celda."
      ],
      "metadata": {
        "id": "T0Y-KOzpYPx8"
      }
    },
    {
      "cell_type": "markdown",
      "source": [
        "Observa que durante el entrenamiento, ¿verdad? Llegó al 100%, ¿de acuerdo? Y a la hora de validar, llegó al 84%. ¿Qué significa esto? Que mi modelo de árbol se memorizó completamente todas las salidas y por eso llegó al 100% y al momento de colocar datos que no ha visto, al momento de validarlo, entonces llegó al 84%.\n",
        "\n",
        "**Esta no es la mejor forma de instanciar un modelo de\n",
        "árbol de decisión**, sino que debemos establecer una profundidad al menos.\n",
        "\n",
        "Entonces voy a colocar MAXDEPTH igual a 10, es decir, que baje 10 porque si no le coloco profundidad, se va a ir hasta el final.\n",
        "\n",
        "Por eso es que llega al 100%, ¿de acuerdo? Entonces es simplemente colocar ese MAXDEPTH y ejecutamos nuestra celda."
      ],
      "metadata": {
        "id": "0aAR3jTzYtka"
      }
    },
    {
      "cell_type": "code",
      "source": [
        "modelo = DecisionTreeClassifier(max_depth=10)\n",
        "modelo.fit(X_train,y_train)\n",
        "print(f'La exactitud del modelo con el conjunto de entrenamiento es de: {modelo.score(X_train,y_train)}')\n",
        "print(f'La exactitud del modelo con el conjunto de validación es de: {modelo.score(X_val,y_val)}')"
      ],
      "metadata": {
        "id": "NIeGQZGcP1J1",
        "colab": {
          "base_uri": "https://localhost:8080/"
        },
        "outputId": "1ef8c1fd-ff64-416b-83f1-f0a38117bf25"
      },
      "execution_count": 32,
      "outputs": [
        {
          "output_type": "stream",
          "name": "stdout",
          "text": [
            "La exactitud del modelo con el conjunto de entrenamiento es de: 0.9206445993031359\n",
            "La exactitud del modelo con el conjunto de validación es de: 0.9055831373573731\n"
          ]
        }
      ]
    },
    {
      "cell_type": "markdown",
      "source": [
        "Y ahora observa que ya con este parámetro, durante mi entrenamiento llegó a un 92% y la exactitud del modelo al momento de validarlo fue el 90%. ¿Cuál es la conclusión aquí? Está generalizando mejor. ¿Por qué? Porque no se está memorizando todas las salidas y únicamente ajustamos un parámetro, ¿de acuerdo? Entonces aquí ya comenzamos a encontrar el camino para poder hacer nuestra validación del modelo, pero ahora también nos falta evaluarlo. Y eso lo veremos en nuestro próximo video.\n",
        "\n"
      ],
      "metadata": {
        "id": "2FoY_OVWYX_x"
      }
    },
    {
      "cell_type": "markdown",
      "source": [
        "\n",
        "\n",
        "---\n",
        "\n",
        "Para saber más: método holdout\n",
        "\n",
        "En el momento de validar modelos de clasificación, necesitamos verificar si el modelo está realmente generalizando, es decir, si está comprendiendo el patrón de los datos y clasificando correctamente datos nuevos. La estrategia más simple para evaluar esta generalización, conocida como holdout, consiste en dividir los datos en dos partes: un conjunto de datos de entrenamiento y otro de prueba. El conjunto de entrenamiento se utiliza para entrenar el modelo, mientras que el conjunto de prueba se usa para evaluar el rendimiento del modelo en datos no vistos anteriormente.\n",
        "\n",
        "Con la ayuda de la imagen a continuación, analiza la ejemplificación del método holdout en funcionamiento:\n",
        "\n",
        "![image.png](data:image/png;base64,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)\n",
        "\n",
        "\n",
        "En algunos casos, especialmente cuando se realizan ajustes finos en los parámetros del modelo, es útil tener un conjunto de validación adicional. En este caso, la división se hace en tres partes: conjunto de entrenamiento, conjunto de validación y conjunto de prueba. El conjunto de validación se utiliza en la comparación de diferentes modelos, en la selección del modelo más adecuado y en el ajuste de los hiperparámetros. Mientras tanto, el conjunto de prueba sigue utilizándose para evaluar el rendimiento final del modelo elegido, después de todo el proceso de ajuste.\n",
        "\n",
        "Por eso, cuanto más se utilizan los mismos datos para tomar decisiones sobre configuraciones de mejoras en el modelo o elección de hiperparámetros, más comprometida se vuelve la confiabilidad de esos resultados al ser generalizados para datos nuevos y no vistos. Esto ocurre porque las mejoras se hacen a partir de esos datos de validación.\n",
        "\n",
        "Es posible percibir que las mejoras aplicadas desempeñan un papel fundamental para resolver el problema. Sin embargo, para asegurar que el rendimiento del modelo permanezca consistente en relación a los datos del mundo real, que no fueron vistos en el entrenamiento o en la mejora de los modelos, la estrategia de la división entre 3 conjuntos de datos, como se puede analizar en la imagen siguiente, ofrece una buena dirección final, ya que indica si el modelo elegido está sesgado o no en relación a los datos de validación.\n",
        "\n",
        "![image.png](data:image/png;base64,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)\n",
        "\n",
        "\n",
        "\n",
        "\n",
        "---\n",
        "\n"
      ],
      "metadata": {
        "id": "8Jzi_fD4ZRNw"
      }
    },
    {
      "cell_type": "markdown",
      "source": [
        "### Evaluando el modelo"
      ],
      "metadata": {
        "id": "WtlRAZt96VLG"
      }
    },
    {
      "cell_type": "markdown",
      "source": [
        "Sin embargo, ¿qué significa precisión? Significa que en el 90% de los casos, mi modelo generalizó bien, por ejemplo, para este caso en la validación. Pero, ¿qué generalizó bien? Es decir, en el 90% de los casos, ¿qué sucedió? ¿Identificó cuántos deudores o cuántos clientes cumplidos? No tenemos esta visibilidad en este punto.\n",
        "\n",
        "Por lo tanto, la precisión es una métrica que no nos dice mucho. Nos indica si el modelo está generalizando bien o no, pero no conocemos en detalle qué es lo que está generalizando y si es de nuestro interés. Para ello, vamos a utilizar también una herramienta para validar nuestros modelos, que es la matriz de confusión."
      ],
      "metadata": {
        "id": "eUxTP28laCiG"
      }
    },
    {
      "cell_type": "code",
      "source": [
        "from sklearn.metrics import confusion_matrix"
      ],
      "metadata": {
        "id": "IlUZBhPrPyYh"
      },
      "execution_count": 35,
      "outputs": []
    },
    {
      "cell_type": "code",
      "source": [
        "y_previsto = modelo.predict(X_val)\n",
        "matriz_confusion = confusion_matrix(y_val,y_previsto)\n",
        "print(matriz_confusion)"
      ],
      "metadata": {
        "id": "iill3u5HPyOA",
        "colab": {
          "base_uri": "https://localhost:8080/"
        },
        "outputId": "9cdd689d-67b1-408c-fc5e-7a53460cd0fe"
      },
      "execution_count": 36,
      "outputs": [
        {
          "output_type": "stream",
          "name": "stdout",
          "text": [
            "[[10356   123]\n",
            " [  961    41]]\n"
          ]
        }
      ]
    },
    {
      "cell_type": "markdown",
      "source": [
        "Observa que me devolvió una matriz, pero no sé realmente estos valores. 10,356, 123, 957, 45. ¿Pero qué? ¿Qué es qué? Entonces, para ello vamos a continuar aquí importando recursos. From sklearn.metrics import confusion_matrix display, que nos va a permitir dibujar nuestra matriz de confusión."
      ],
      "metadata": {
        "id": "zJq89W6KaI3n"
      }
    },
    {
      "cell_type": "code",
      "source": [
        "from sklearn.metrics import ConfusionMatrixDisplay"
      ],
      "metadata": {
        "id": "gtFWt6emPyJt"
      },
      "execution_count": 38,
      "outputs": []
    },
    {
      "cell_type": "code",
      "source": [
        "visualizacion = ConfusionMatrixDisplay(confusion_matrix = matriz_confusion)\n",
        "visualizacion.plot();"
      ],
      "metadata": {
        "id": "qg0OgZeqPyGJ",
        "colab": {
          "base_uri": "https://localhost:8080/",
          "height": 449
        },
        "outputId": "7edd4293-d3fb-4329-b9ed-30c67171ede4"
      },
      "execution_count": 39,
      "outputs": [
        {
          "output_type": "display_data",
          "data": {
            "text/plain": [
              "<Figure size 640x480 with 2 Axes>"
            ],
            "image/png": "[encoded data removed]"
          },
          "metadata": {}
        }
      ]
    },
    {
      "cell_type": "markdown",
      "source": [
        "Tenemos nuestra matriz de confusión:\n",
        "\n",
        "En el eje Y tenemos los valores reales, 0 siendo cumplido, 1 siendo deudor.\n",
        "\n",
        "Y aquí en el eje X tenemos los valores previstos, 0 siendo cumplido y 1 siendo deudor."
      ],
      "metadata": {
        "id": "a6gfnJxUaSxk"
      }
    },
    {
      "cell_type": "code",
      "source": [
        "visualizacion = ConfusionMatrixDisplay(confusion_matrix = matriz_confusion, display_labels=['Cumplido','Moroso'])\n",
        "visualizacion.plot();"
      ],
      "metadata": {
        "id": "E3kpBqrcah5Y",
        "outputId": "40a8aed4-8649-440b-b961-e37474ba595a",
        "colab": {
          "base_uri": "https://localhost:8080/",
          "height": 449
        }
      },
      "execution_count": 40,
      "outputs": [
        {
          "output_type": "display_data",
          "data": {
            "text/plain": [
              "<Figure size 640x480 with 2 Axes>"
            ],
            "image/png": "[encoded data removed]"
          },
          "metadata": {}
        }
      ]
    },
    {
      "cell_type": "markdown",
      "source": [
        "Perfecto. Entonces, ¿qué quiere decir mi matriz de confusión? Que de mi modelo, predijo cumplidos de todo el conjunto de datos, al momento de validar, más de 10,000 clientes de forma correcta. Sin embargo, hubo 957 clientes que mi modelo dijo que eran cumplidos, pero en realidad eran deudores. Es decir, 957 clientes fueron clasificados como clientes cumplidos, pero en realidad eran deudores.\n",
        "\n",
        "Entonces, existe un riesgo muy grande aquí. Y en este lado, ¿verdad? Lo mismo sucede con los morosos. Mi modelo indicó que 123 clientes eran morosos, cuando en realidad eran cumplidos. Y solo identificó a 45 de estos morosos, ¿verdad? Es decir, solo clasificó de manera efectiva a 45 clientes morosos como morosos. Y de manera efectiva, más de 10,000 clientes cumplidos como cumplidos.\n",
        "\n",
        "Estos números aquí, digamos, son los que nos permitirán trabajar con nuestro modelo para mejorarlo. Porque definitivamente queremos priorizar los casos en los que nuestro cliente realmente es moroso. Y no decir, por ejemplo, que es un cliente moroso cuando en realidad es cumplido. Entonces, dejaría de prestarle a 123 personas o a 123 clientes que me iban a pagar bien. Y estoy prestando a 957 clientes que no me van a pagar bien. Entonces, aquí, digamos, se está asumiendo un riesgo muy grande. Potencialmente, ¿no? Estamos hablando potencialmente."
      ],
      "metadata": {
        "id": "1G78_nCrakIE"
      }
    },
    {
      "cell_type": "markdown",
      "source": [
        "## <font color='dark'>Métricas de evaluación</h1>"
      ],
      "metadata": {
        "id": "tPogL-24ntSH"
      }
    },
    {
      "cell_type": "markdown",
      "source": [
        "### Exactitud, precisión y recall (sensibilidad)."
      ],
      "metadata": {
        "id": "nP1WfyyR6XMl"
      }
    },
    {
      "cell_type": "markdown",
      "source": [
        "<a href=\"https://ibb.co/351SbY7t\"><img src=\"https://i.ibb.co/wZypqrRD/matriz-confusion.png\" alt=\"matriz-confusion\" border=\"0\"></a>"
      ],
      "metadata": {
        "id": "oE8N0NqoH6hy"
      }
    },
    {
      "cell_type": "markdown",
      "source": [
        "<a href=\"https://imgbb.com/\"><img src=\"https://i.ibb.co/6Jp6rKyC/Captura-de-tela-2025-03-22-120744.png\" alt=\"Captura-de-tela-2025-03-22-120744\" border=\"0\"></a>"
      ],
      "metadata": {
        "id": "k0ldCSgoZiPX"
      }
    },
    {
      "cell_type": "code",
      "source": [],
      "metadata": {
        "id": "IIEaf2fmPmq1"
      },
      "execution_count": 32,
      "outputs": []
    },
    {
      "cell_type": "code",
      "source": [],
      "metadata": {
        "id": "QnGxEIrWPmbx"
      },
      "execution_count": 32,
      "outputs": []
    },
    {
      "cell_type": "code",
      "source": [],
      "metadata": {
        "id": "7C7NoVZnPmX1"
      },
      "execution_count": 32,
      "outputs": []
    },
    {
      "cell_type": "code",
      "source": [],
      "metadata": {
        "id": "u2SqICFJPmU-"
      },
      "execution_count": 32,
      "outputs": []
    },
    {
      "cell_type": "markdown",
      "source": [
        "### Curva ROC"
      ],
      "metadata": {
        "id": "I8ELhexg2jNx"
      }
    },
    {
      "cell_type": "code",
      "source": [
        "from IPython.display import Image\n",
        "Image(url='https://raw.githubusercontent.com/dariyasydykova/open_projects/master/ROC_animation/animations/cutoff.gif')"
      ],
      "metadata": {
        "colab": {
          "base_uri": "https://localhost:8080/",
          "height": 421
        },
        "id": "PhUNE4Xm4MII",
        "outputId": "e58ada59-ec2b-4463-a5e7-1cb80398a16f"
      },
      "execution_count": 33,
      "outputs": [
        {
          "output_type": "execute_result",
          "data": {
            "text/html": [
              "<img src=\"https://raw.githubusercontent.com/dariyasydykova/open_projects/master/ROC_animation/animations/cutoff.gif\"/>"
            ],
            "text/plain": [
              "<IPython.core.display.Image object>"
            ]
          },
          "metadata": {},
          "execution_count": 33
        }
      ]
    },
    {
      "cell_type": "markdown",
      "source": [
        "Fuente: [paulvanderlaken.com](https://paulvanderlaken.com/2019/08/16/roc-auc-precision-and-recall-visually-explained/)\n",
        "\n",
        "\n"
      ],
      "metadata": {
        "id": "XK8_7Ruy32BT"
      }
    },
    {
      "cell_type": "code",
      "source": [],
      "metadata": {
        "id": "FHc-8FjePhM6"
      },
      "execution_count": 33,
      "outputs": []
    },
    {
      "cell_type": "code",
      "source": [],
      "metadata": {
        "id": "V6Ua2rY3PhFt"
      },
      "execution_count": 33,
      "outputs": []
    },
    {
      "cell_type": "code",
      "source": [],
      "metadata": {
        "id": "LJE-yyWMPg8R"
      },
      "execution_count": 33,
      "outputs": []
    },
    {
      "cell_type": "code",
      "source": [],
      "metadata": {
        "id": "7mtvjPHsPi1o"
      },
      "execution_count": 33,
      "outputs": []
    },
    {
      "cell_type": "markdown",
      "source": [
        "### Curva de  precisión x sensibilidad"
      ],
      "metadata": {
        "id": "IztSEZfh7QFe"
      }
    },
    {
      "cell_type": "code",
      "source": [
        "Image(url='https://paulvanderlaken.com/wp-content/uploads/2019/08/roc.gif')"
      ],
      "metadata": {
        "colab": {
          "base_uri": "https://localhost:8080/",
          "height": 421
        },
        "id": "EJzfjuxa3fxD",
        "outputId": "81757bfc-d63e-47b5-dd0e-b8cf24d4abcc"
      },
      "execution_count": 34,
      "outputs": [
        {
          "output_type": "execute_result",
          "data": {
            "text/html": [
              "<img src=\"https://paulvanderlaken.com/wp-content/uploads/2019/08/roc.gif\"/>"
            ],
            "text/plain": [
              "<IPython.core.display.Image object>"
            ]
          },
          "metadata": {},
          "execution_count": 34
        }
      ]
    },
    {
      "cell_type": "markdown",
      "source": [
        "Fuente: [paulvanderlaken.com](https://paulvanderlaken.com/2019/08/16/roc-auc-precision-and-recall-visually-explained/)\n"
      ],
      "metadata": {
        "id": "bUoGCSUB4msC"
      }
    },
    {
      "cell_type": "code",
      "source": [],
      "metadata": {
        "id": "7t20ira6Pcds"
      },
      "execution_count": 34,
      "outputs": []
    },
    {
      "cell_type": "code",
      "source": [],
      "metadata": {
        "id": "Drs3Z6RTPcTc"
      },
      "execution_count": 34,
      "outputs": []
    },
    {
      "cell_type": "code",
      "source": [],
      "metadata": {
        "id": "DmhO5H5cPcOp"
      },
      "execution_count": 34,
      "outputs": []
    },
    {
      "cell_type": "code",
      "source": [],
      "metadata": {
        "id": "SS08sHDkPeaG"
      },
      "execution_count": 34,
      "outputs": []
    },
    {
      "cell_type": "markdown",
      "source": [
        "### Informe de métricas"
      ],
      "metadata": {
        "id": "Bm2E6GEJDJLH"
      }
    },
    {
      "cell_type": "code",
      "source": [],
      "metadata": {
        "id": "C85qunYhPZTJ"
      },
      "execution_count": 34,
      "outputs": []
    },
    {
      "cell_type": "code",
      "source": [],
      "metadata": {
        "id": "pnN6QRlYPZQR"
      },
      "execution_count": 34,
      "outputs": []
    },
    {
      "cell_type": "markdown",
      "source": [
        "## <font color='dark'> Validación cruzada</h1>"
      ],
      "metadata": {
        "id": "SuxCy_oZZQxE"
      }
    },
    {
      "cell_type": "markdown",
      "source": [
        "### Usando KFold"
      ],
      "metadata": {
        "id": "17q2T0iRnzSg"
      }
    },
    {
      "cell_type": "markdown",
      "source": [
        "La validación del modelo de clasificación a partir de la separación de los datos en conjuntos de entrenamiento y validación hace que el resultado dependa en gran medida de esta división. Puede suceder que, de forma aleatoria, el patrón de los datos de validación sea diferente al de los datos de entrenamiento, lo que podría llevar a obtener un resultado mucho mejor o mucho peor que la realidad simplemente por suerte o mala suerte.  \n",
        "\n",
        "Teniendo esto en cuenta, es posible utilizar la **validación cruzada**, una estrategia más consistente y ampliamente utilizada en proyectos de *machine learning*.  \n",
        "\n",
        "En la validación cruzada, en lugar de separar los datos en entrenamiento y validación una sola vez, se dividen en varias partes de igual tamaño. En cada una de estas divisiones, se usa una parte para validación y todas las demás para entrenamiento. Este proceso se repite hasta que todas las partes hayan sido utilizadas tanto para validación como para entrenamiento.  \n",
        "\n",
        "Se generará un modelo para cada una de estas divisiones y la evaluación del desempeño se realizará promediando la métrica de cada modelo. Esto elimina la dependencia de la separación de los datos, ya que hay una mayor variación en la selección de los mismos y se obtiene un valor medio.  \n",
        "\n",
        "Generalmente, se utilizan 5 o 10 partes. Un número mayor no suele ser necesario, ya que implica un procesamiento más costoso, y valores menores ya ayudan a mitigar el problema de la selección de los datos."
      ],
      "metadata": {
        "id": "zjfYnDWJ6C2A"
      }
    },
    {
      "cell_type": "markdown",
      "source": [
        "<a href=\"https://ibb.co/KcBtshJR\"><img src=\"https://i.ibb.co/nq4X1mFZ/train-y-validacion.png\" alt=\"train-y-validacion\" border=\"0\"></a>"
      ],
      "metadata": {
        "id": "oSboV-QNMG__"
      }
    },
    {
      "cell_type": "code",
      "source": [],
      "metadata": {
        "id": "TU8HYdzmPI7P"
      },
      "execution_count": 34,
      "outputs": []
    },
    {
      "cell_type": "code",
      "source": [],
      "metadata": {
        "id": "McSadnzDPI4G"
      },
      "execution_count": 34,
      "outputs": []
    },
    {
      "cell_type": "code",
      "source": [],
      "metadata": {
        "id": "o5oZ8-lhPIy_"
      },
      "execution_count": 34,
      "outputs": []
    },
    {
      "cell_type": "markdown",
      "source": [
        "### Validación cruzada con sensibilidad"
      ],
      "metadata": {
        "id": "GAHrtLM2OCjO"
      }
    },
    {
      "cell_type": "code",
      "source": [],
      "metadata": {
        "id": "Ywfsoe3_PLYZ"
      },
      "execution_count": 34,
      "outputs": []
    },
    {
      "cell_type": "code",
      "source": [],
      "metadata": {
        "id": "PV3m-6IxPLMf"
      },
      "execution_count": 34,
      "outputs": []
    },
    {
      "cell_type": "code",
      "source": [],
      "metadata": {
        "id": "Y-gpgU7pPLJv"
      },
      "execution_count": 34,
      "outputs": []
    },
    {
      "cell_type": "markdown",
      "source": [
        "### Estratificando los datos"
      ],
      "metadata": {
        "id": "-FAOYtNen4qJ"
      }
    },
    {
      "cell_type": "code",
      "source": [],
      "metadata": {
        "id": "G6bPA6vaPN1A"
      },
      "execution_count": 34,
      "outputs": []
    },
    {
      "cell_type": "code",
      "source": [],
      "metadata": {
        "id": "HONIpY1BPNzd"
      },
      "execution_count": 34,
      "outputs": []
    },
    {
      "cell_type": "code",
      "source": [],
      "metadata": {
        "id": "jCFRBhd_PNxT"
      },
      "execution_count": 34,
      "outputs": []
    },
    {
      "cell_type": "markdown",
      "source": [
        "## <font color='dark'>Balanceo de los datos</h1>"
      ],
      "metadata": {
        "id": "yaVwNb1kn8sX"
      }
    },
    {
      "cell_type": "markdown",
      "source": [
        "### Oversampling"
      ],
      "metadata": {
        "id": "4eYKxWJd6g6w"
      }
    },
    {
      "cell_type": "markdown",
      "source": [
        "https://imbalanced-learn.org/stable/references/generated/imblearn.over_sampling.SMOTE.html#id1"
      ],
      "metadata": {
        "id": "N0MJ7hGUmL4l"
      }
    },
    {
      "cell_type": "code",
      "source": [],
      "metadata": {
        "id": "cO0Dx5xAO4B5"
      },
      "execution_count": 34,
      "outputs": []
    },
    {
      "cell_type": "code",
      "source": [],
      "metadata": {
        "id": "h6DQqcttO3_c"
      },
      "execution_count": 34,
      "outputs": []
    },
    {
      "cell_type": "code",
      "source": [],
      "metadata": {
        "id": "7Lp4GoMRO355"
      },
      "execution_count": 34,
      "outputs": []
    },
    {
      "cell_type": "markdown",
      "source": [
        "### Pipeline para validación"
      ],
      "metadata": {
        "id": "fHSNXznm6ia-"
      }
    },
    {
      "cell_type": "code",
      "source": [],
      "metadata": {
        "id": "DaoAbR84O44S"
      },
      "execution_count": 34,
      "outputs": []
    },
    {
      "cell_type": "code",
      "source": [],
      "metadata": {
        "id": "7UezUduWO41c"
      },
      "execution_count": 34,
      "outputs": []
    },
    {
      "cell_type": "code",
      "source": [],
      "metadata": {
        "id": "b7Z-pe6wO4yN"
      },
      "execution_count": 34,
      "outputs": []
    },
    {
      "cell_type": "markdown",
      "source": [
        "### Undersampling"
      ],
      "metadata": {
        "id": "66PlvwjX6kFv"
      }
    },
    {
      "cell_type": "markdown",
      "source": [
        "https://imbalanced-learn.org/stable/references/generated/imblearn.under_sampling.NearMiss.html"
      ],
      "metadata": {
        "id": "Fh6VZN5Fx7wl"
      }
    },
    {
      "cell_type": "code",
      "source": [],
      "metadata": {
        "id": "lUn59uqAO63N"
      },
      "execution_count": 34,
      "outputs": []
    },
    {
      "cell_type": "code",
      "source": [],
      "metadata": {
        "id": "pOUKHwqRO6zb"
      },
      "execution_count": 34,
      "outputs": []
    },
    {
      "cell_type": "code",
      "source": [],
      "metadata": {
        "id": "ykn9H4kFO6so"
      },
      "execution_count": 34,
      "outputs": []
    },
    {
      "cell_type": "markdown",
      "source": [
        "### Probando el modelo"
      ],
      "metadata": {
        "id": "EP-44U0eHt-a"
      }
    },
    {
      "cell_type": "code",
      "source": [],
      "metadata": {
        "id": "XWhZlwOTO8eN"
      },
      "execution_count": 34,
      "outputs": []
    },
    {
      "cell_type": "code",
      "source": [],
      "metadata": {
        "id": "gZHVqM6hO8bt"
      },
      "execution_count": 34,
      "outputs": []
    },
    {
      "cell_type": "code",
      "source": [],
      "metadata": {
        "id": "QSrpOQpxO8WT"
      },
      "execution_count": 34,
      "outputs": []
    }
  ]
}